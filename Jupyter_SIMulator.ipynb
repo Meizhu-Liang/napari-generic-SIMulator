{
 "cells": [
  {
   "cell_type": "code",
   "execution_count": null,
   "id": "996fbda5",
   "metadata": {},
   "outputs": [],
   "source": [
    "import sys\n",
    "print(sys.path)"
   ]
  },
  {
   "cell_type": "code",
   "execution_count": 11,
   "id": "1490caa0",
   "metadata": {},
   "outputs": [],
   "source": [
    "import napari\n",
    "from src.napari_generic_simulator._widget import SIMulator, PointCloud"
   ]
  },
  {
   "cell_type": "code",
   "execution_count": 12,
   "id": "e63dbe52",
   "metadata": {},
   "outputs": [],
   "source": [
    "import matplotlib.pyplot as plt\n",
    "import numpy as np"
   ]
  },
  {
   "cell_type": "code",
   "execution_count": 13,
   "id": "263ee1a5",
   "metadata": {},
   "outputs": [
    {
     "name": "stdout",
     "output_type": "stream",
     "text": [
      "Point cloud generated\n"
     ]
    }
   ],
   "source": [
    "viewer = napari.Viewer()\n",
    "point_cloud = PointCloud(viewer)\n",
    "simulator = SIMulator(viewer)\n",
    "w1 = viewer.window.add_dock_widget(point_cloud, name='pc_Jupyter notebook test', add_vertical_stretch=True)\n",
    "w2 = viewer.window.add_dock_widget(simulator, name='SIMdata_Jupyter notebook test', add_vertical_stretch=True)\n",
    "viewer.window._qt_window.tabifyDockWidget(w1, w2)\n",
    "napari.run()"
   ]
  },
  {
   "cell_type": "code",
   "execution_count": 15,
   "id": "cc5a3974",
   "metadata": {},
   "outputs": [
    {
     "ename": "AttributeError",
     "evalue": "'QtViewerDockWidget' object has no attribute 'simulator'",
     "output_type": "error",
     "traceback": [
      "\u001b[1;31m---------------------------------------------------------------------------\u001b[0m",
      "\u001b[1;31mAttributeError\u001b[0m                            Traceback (most recent call last)",
      "Cell \u001b[1;32mIn[15], line 2\u001b[0m\n\u001b[0;32m      1\u001b[0m plt\u001b[38;5;241m.\u001b[39mfigure()\n\u001b[1;32m----> 2\u001b[0m plt\u001b[38;5;241m.\u001b[39mplot(\u001b[43mw2\u001b[49m\u001b[38;5;241;43m.\u001b[39;49m\u001b[43msimulator\u001b[49m\u001b[38;5;241m.\u001b[39mpsffile)\n\u001b[0;32m      3\u001b[0m plt\u001b[38;5;241m.\u001b[39mshow()\n",
      "\u001b[1;31mAttributeError\u001b[0m: 'QtViewerDockWidget' object has no attribute 'simulator'"
     ]
    },
    {
     "data": {
      "text/plain": [
       "<Figure size 640x480 with 0 Axes>"
      ]
     },
     "metadata": {},
     "output_type": "display_data"
    }
   ],
   "source": [
    "plt.figure()\n",
    "plt.plot(simulator.psffile)\n",
    "plt.show()"
   ]
  },
  {
   "cell_type": "code",
   "execution_count": 28,
   "id": "fa3ca40f",
   "metadata": {},
   "outputs": [
    {
     "name": "stdout",
     "output_type": "stream",
     "text": [
      "0.5180790974317333\n"
     ]
    }
   ],
   "source": [
    "print(widget.sim.get_vector_psf().max())"
   ]
  },
  {
   "cell_type": "code",
   "execution_count": 29,
   "id": "37324133",
   "metadata": {},
   "outputs": [
    {
     "name": "stdout",
     "output_type": "stream",
     "text": [
      "0.1920303254437871\n"
     ]
    }
   ],
   "source": [
    "print(widget.sim.get_scalar_psf().max())"
   ]
  },
  {
   "cell_type": "code",
   "execution_count": 30,
   "id": "25236e84",
   "metadata": {},
   "outputs": [
    {
     "data": {
      "text/plain": [
       "11.635528346628863"
      ]
     },
     "execution_count": 30,
     "metadata": {},
     "output_type": "execute_result"
    }
   ],
   "source": [
    "widget.sim.krmax"
   ]
  },
  {
   "cell_type": "code",
   "execution_count": 31,
   "id": "ee1ab2d2",
   "metadata": {},
   "outputs": [
    {
     "data": {
      "text/plain": [
       "15.47525270101639"
      ]
     },
     "execution_count": 31,
     "metadata": {},
     "output_type": "execute_result"
    }
   ],
   "source": [
    "widget.sim.k0"
   ]
  },
  {
   "cell_type": "code",
   "execution_count": 32,
   "id": "dc610b7a",
   "metadata": {},
   "outputs": [
    {
     "data": {
      "text/plain": [
       "-2.0250000000000004"
      ]
     },
     "execution_count": 32,
     "metadata": {},
     "output_type": "execute_result"
    }
   ],
   "source": [
    "widget.sim.ky.min()"
   ]
  },
  {
   "cell_type": "code",
   "execution_count": 33,
   "id": "ab5a6018",
   "metadata": {},
   "outputs": [],
   "source": [
    "kx = widget.sim.krmax * (widget.sim.kx)\n",
    "ky = widget.sim.krmax * (widget.sim.ky)\n",
    "kr2 = (kx ** 2 + ky ** 2)  # square kr\n",
    "e_in = 1.0 * (kr2 < widget.sim.krmax ** 2)\n",
    "kz = np.sqrt((widget.sim.k0 ** 2 - kr2) + 0j)"
   ]
  },
  {
   "cell_type": "code",
   "execution_count": 34,
   "id": "a5b99b35",
   "metadata": {},
   "outputs": [
    {
     "data": {
      "text/plain": [
       "<matplotlib.image.AxesImage at 0x1b3ca19a850>"
      ]
     },
     "execution_count": 34,
     "metadata": {},
     "output_type": "execute_result"
    },
    {
     "data": {
      "image/png": "[encoded data removed]",
      "text/plain": [
       "<Figure size 640x480 with 1 Axes>"
      ]
     },
     "metadata": {},
     "output_type": "display_data"
    }
   ],
   "source": [
    "plt.figure()\n",
    "plt.imshow(e_in.get())"
   ]
  },
  {
   "cell_type": "code",
   "execution_count": 37,
   "id": "f5d02461",
   "metadata": {},
   "outputs": [
    {
     "data": {
      "text/plain": [
       "array(11.47193842)"
      ]
     },
     "execution_count": 37,
     "metadata": {},
     "output_type": "execute_result"
    },
    {
     "name": "stdout",
     "output_type": "stream",
     "text": [
      "\n",
      "\n"
     ]
    }
   ],
   "source": [
    "np.sqrt((kr2*e_in).max())"
   ]
  },
  {
   "cell_type": "code",
   "execution_count": null,
   "id": "d1ac1ef5",
   "metadata": {},
   "outputs": [],
   "source": []
  }
 ],
 "metadata": {
  "kernelspec": {
   "display_name": "Python 3 (ipykernel)",
   "language": "python",
   "name": "python3"
  },
  "language_info": {
   "codemirror_mode": {
    "name": "ipython",
    "version": 3
   },
   "file_extension": ".py",
   "mimetype": "text/x-python",
   "name": "python",
   "nbconvert_exporter": "python",
   "pygments_lexer": "ipython3",
   "version": "3.8.13"
  }
 },
 "nbformat": 4,
 "nbformat_minor": 5
}
